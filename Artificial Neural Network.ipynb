{
 "cells": [
  {
   "cell_type": "markdown",
   "metadata": {},
   "source": [
    "# Artificial Neural Network"
   ]
  },
  {
   "cell_type": "markdown",
   "metadata": {},
   "source": [
    "Building an Artificial Neural Network model to predict which customer will leave the bank."
   ]
  },
  {
   "cell_type": "code",
   "execution_count": 1,
   "metadata": {},
   "outputs": [],
   "source": [
    "# Importing the libraries\n",
    "import numpy as np\n",
    "import pandas as pd\n",
    "import matplotlib.pyplot as plt"
   ]
  },
  {
   "cell_type": "code",
   "execution_count": 2,
   "metadata": {},
   "outputs": [
    {
     "data": {
      "text/html": [
       "<div>\n",
       "<style scoped>\n",
       "    .dataframe tbody tr th:only-of-type {\n",
       "        vertical-align: middle;\n",
       "    }\n",
       "\n",
       "    .dataframe tbody tr th {\n",
       "        vertical-align: top;\n",
       "    }\n",
       "\n",
       "    .dataframe thead th {\n",
       "        text-align: right;\n",
       "    }\n",
       "</style>\n",
       "<table border=\"1\" class=\"dataframe\">\n",
       "  <thead>\n",
       "    <tr style=\"text-align: right;\">\n",
       "      <th></th>\n",
       "      <th>RowNumber</th>\n",
       "      <th>CustomerId</th>\n",
       "      <th>Surname</th>\n",
       "      <th>CreditScore</th>\n",
       "      <th>Geography</th>\n",
       "      <th>Gender</th>\n",
       "      <th>Age</th>\n",
       "      <th>Tenure</th>\n",
       "      <th>Balance</th>\n",
       "      <th>NumOfProducts</th>\n",
       "      <th>HasCrCard</th>\n",
       "      <th>IsActiveMember</th>\n",
       "      <th>EstimatedSalary</th>\n",
       "      <th>Exited</th>\n",
       "    </tr>\n",
       "  </thead>\n",
       "  <tbody>\n",
       "    <tr>\n",
       "      <th>0</th>\n",
       "      <td>1</td>\n",
       "      <td>15634602</td>\n",
       "      <td>Hargrave</td>\n",
       "      <td>619</td>\n",
       "      <td>France</td>\n",
       "      <td>Female</td>\n",
       "      <td>42</td>\n",
       "      <td>2</td>\n",
       "      <td>0.00</td>\n",
       "      <td>1</td>\n",
       "      <td>1</td>\n",
       "      <td>1</td>\n",
       "      <td>101348.88</td>\n",
       "      <td>1</td>\n",
       "    </tr>\n",
       "    <tr>\n",
       "      <th>1</th>\n",
       "      <td>2</td>\n",
       "      <td>15647311</td>\n",
       "      <td>Hill</td>\n",
       "      <td>608</td>\n",
       "      <td>Spain</td>\n",
       "      <td>Female</td>\n",
       "      <td>41</td>\n",
       "      <td>1</td>\n",
       "      <td>83807.86</td>\n",
       "      <td>1</td>\n",
       "      <td>0</td>\n",
       "      <td>1</td>\n",
       "      <td>112542.58</td>\n",
       "      <td>0</td>\n",
       "    </tr>\n",
       "    <tr>\n",
       "      <th>2</th>\n",
       "      <td>3</td>\n",
       "      <td>15619304</td>\n",
       "      <td>Onio</td>\n",
       "      <td>502</td>\n",
       "      <td>France</td>\n",
       "      <td>Female</td>\n",
       "      <td>42</td>\n",
       "      <td>8</td>\n",
       "      <td>159660.80</td>\n",
       "      <td>3</td>\n",
       "      <td>1</td>\n",
       "      <td>0</td>\n",
       "      <td>113931.57</td>\n",
       "      <td>1</td>\n",
       "    </tr>\n",
       "    <tr>\n",
       "      <th>3</th>\n",
       "      <td>4</td>\n",
       "      <td>15701354</td>\n",
       "      <td>Boni</td>\n",
       "      <td>699</td>\n",
       "      <td>France</td>\n",
       "      <td>Female</td>\n",
       "      <td>39</td>\n",
       "      <td>1</td>\n",
       "      <td>0.00</td>\n",
       "      <td>2</td>\n",
       "      <td>0</td>\n",
       "      <td>0</td>\n",
       "      <td>93826.63</td>\n",
       "      <td>0</td>\n",
       "    </tr>\n",
       "    <tr>\n",
       "      <th>4</th>\n",
       "      <td>5</td>\n",
       "      <td>15737888</td>\n",
       "      <td>Mitchell</td>\n",
       "      <td>850</td>\n",
       "      <td>Spain</td>\n",
       "      <td>Female</td>\n",
       "      <td>43</td>\n",
       "      <td>2</td>\n",
       "      <td>125510.82</td>\n",
       "      <td>1</td>\n",
       "      <td>1</td>\n",
       "      <td>1</td>\n",
       "      <td>79084.10</td>\n",
       "      <td>0</td>\n",
       "    </tr>\n",
       "  </tbody>\n",
       "</table>\n",
       "</div>"
      ],
      "text/plain": [
       "   RowNumber  CustomerId   Surname  CreditScore Geography  Gender  Age  \\\n",
       "0          1    15634602  Hargrave          619    France  Female   42   \n",
       "1          2    15647311      Hill          608     Spain  Female   41   \n",
       "2          3    15619304      Onio          502    France  Female   42   \n",
       "3          4    15701354      Boni          699    France  Female   39   \n",
       "4          5    15737888  Mitchell          850     Spain  Female   43   \n",
       "\n",
       "   Tenure    Balance  NumOfProducts  HasCrCard  IsActiveMember  \\\n",
       "0       2       0.00              1          1               1   \n",
       "1       1   83807.86              1          0               1   \n",
       "2       8  159660.80              3          1               0   \n",
       "3       1       0.00              2          0               0   \n",
       "4       2  125510.82              1          1               1   \n",
       "\n",
       "   EstimatedSalary  Exited  \n",
       "0        101348.88       1  \n",
       "1        112542.58       0  \n",
       "2        113931.57       1  \n",
       "3         93826.63       0  \n",
       "4         79084.10       0  "
      ]
     },
     "execution_count": 2,
     "metadata": {},
     "output_type": "execute_result"
    }
   ],
   "source": [
    "# Importing the dataset\n",
    "df = pd.read_csv('Churn_Modelling.csv')\n",
    "df.head()"
   ]
  },
  {
   "cell_type": "code",
   "execution_count": 3,
   "metadata": {},
   "outputs": [],
   "source": [
    "# Initializing value\n",
    "X = df.iloc[:, 3:13].values\n",
    "y = df.iloc[:, 13].values"
   ]
  },
  {
   "cell_type": "markdown",
   "metadata": {},
   "source": [
    "## Data Preprocessing"
   ]
  },
  {
   "cell_type": "code",
   "execution_count": 4,
   "metadata": {},
   "outputs": [
    {
     "name": "stdout",
     "output_type": "stream",
     "text": [
      "<class 'pandas.core.frame.DataFrame'>\n",
      "RangeIndex: 10000 entries, 0 to 9999\n",
      "Data columns (total 14 columns):\n",
      "RowNumber          10000 non-null int64\n",
      "CustomerId         10000 non-null int64\n",
      "Surname            10000 non-null object\n",
      "CreditScore        10000 non-null int64\n",
      "Geography          10000 non-null object\n",
      "Gender             10000 non-null object\n",
      "Age                10000 non-null int64\n",
      "Tenure             10000 non-null int64\n",
      "Balance            10000 non-null float64\n",
      "NumOfProducts      10000 non-null int64\n",
      "HasCrCard          10000 non-null int64\n",
      "IsActiveMember     10000 non-null int64\n",
      "EstimatedSalary    10000 non-null float64\n",
      "Exited             10000 non-null int64\n",
      "dtypes: float64(2), int64(9), object(3)\n",
      "memory usage: 1.1+ MB\n"
     ]
    }
   ],
   "source": [
    "df.info()"
   ]
  },
  {
   "cell_type": "code",
   "execution_count": 5,
   "metadata": {},
   "outputs": [
    {
     "data": {
      "text/plain": [
       "(10000, 14)"
      ]
     },
     "execution_count": 5,
     "metadata": {},
     "output_type": "execute_result"
    }
   ],
   "source": [
    "df.shape"
   ]
  },
  {
   "cell_type": "code",
   "execution_count": 6,
   "metadata": {},
   "outputs": [],
   "source": [
    "# Encoding categorical data\n",
    "from sklearn.preprocessing import LabelEncoder, OneHotEncoder\n",
    "\n",
    "labelencoder = LabelEncoder()\n",
    "X[:, 1] = labelencoder.fit_transform(X[:, 1])\n",
    "X[:, 2] = labelencoder.fit_transform(X[:, 2])\n",
    "\n",
    "onehotencoder = OneHotEncoder(categories='auto')\n",
    "X = onehotencoder.fit_transform(X).toarray()\n",
    "X = X[:, 1:]"
   ]
  },
  {
   "cell_type": "code",
   "execution_count": 7,
   "metadata": {},
   "outputs": [],
   "source": [
    "# Splitting the dataset into training and test set\n",
    "from sklearn.model_selection import train_test_split\n",
    "X_train, X_test, y_train, y_test = train_test_split(X, y, test_size=0.2,\n",
    "                                                   random_state=0)"
   ]
  },
  {
   "cell_type": "code",
   "execution_count": 8,
   "metadata": {},
   "outputs": [],
   "source": [
    "# Feature scaling\n",
    "from sklearn.preprocessing import StandardScaler\n",
    "\n",
    "sc = StandardScaler()\n",
    "X_train = sc.fit_transform(X_train)\n",
    "X_test = sc.fit_transform(X_test)"
   ]
  },
  {
   "cell_type": "markdown",
   "metadata": {},
   "source": [
    "## Let's make the Artificial Neural Network"
   ]
  },
  {
   "cell_type": "code",
   "execution_count": 9,
   "metadata": {},
   "outputs": [],
   "source": [
    "# Importing the keras libraries and packages\n",
    "import tensorflow as tf\n",
    "from tensorflow import keras"
   ]
  },
  {
   "cell_type": "code",
   "execution_count": 10,
   "metadata": {},
   "outputs": [],
   "source": [
    "# Initializing the ANN\n",
    "classifier = keras.Sequential()"
   ]
  },
  {
   "cell_type": "code",
   "execution_count": 11,
   "metadata": {},
   "outputs": [],
   "source": [
    "classifier.add(keras.layers.Flatten())"
   ]
  },
  {
   "cell_type": "code",
   "execution_count": 12,
   "metadata": {},
   "outputs": [
    {
     "name": "stdout",
     "output_type": "stream",
     "text": [
      "WARNING:tensorflow:From C:\\Users\\Dell\\Anaconda3\\envs\\tensorflow\\lib\\site-packages\\tensorflow_core\\python\\keras\\initializers.py:119: calling RandomUniform.__init__ (from tensorflow.python.ops.init_ops) with dtype is deprecated and will be removed in a future version.\n",
      "Instructions for updating:\n",
      "Call initializer instance with the dtype argument instead of passing it to the constructor\n"
     ]
    }
   ],
   "source": [
    "# Adding the input layer and first hidden layer\n",
    "classifier.add(keras.layers.Dense(units=6, kernel_initializer='uniform', \n",
    "                     activation='relu', input_dim=11))"
   ]
  },
  {
   "cell_type": "code",
   "execution_count": 13,
   "metadata": {},
   "outputs": [],
   "source": [
    "# Adding the second hidden layer\n",
    "classifier.add(keras.layers.Dense(units=6, kernel_initializer='uniform', \n",
    "                                 activation='relu'))"
   ]
  },
  {
   "cell_type": "code",
   "execution_count": 14,
   "metadata": {},
   "outputs": [],
   "source": [
    "# Adding the output layer\n",
    "classifier.add(keras.layers.Dense(units=1, kernel_initializer='uniform', \n",
    "                                 activation='sigmoid'))"
   ]
  },
  {
   "cell_type": "code",
   "execution_count": 15,
   "metadata": {},
   "outputs": [],
   "source": [
    "# Compiling the ANN\n",
    "classifier.compile(optimizer='adam', loss='binary_crossentropy', metrics=['accuracy'])"
   ]
  },
  {
   "cell_type": "code",
   "execution_count": 16,
   "metadata": {
    "scrolled": true
   },
   "outputs": [
    {
     "name": "stdout",
     "output_type": "stream",
     "text": [
      "WARNING:tensorflow:From C:\\Users\\Dell\\Anaconda3\\envs\\tensorflow\\lib\\site-packages\\tensorflow_core\\python\\ops\\resource_variable_ops.py:1630: calling BaseResourceVariable.__init__ (from tensorflow.python.ops.resource_variable_ops) with constraint is deprecated and will be removed in a future version.\n",
      "Instructions for updating:\n",
      "If using Keras pass *_constraint arguments to layers.\n",
      "WARNING:tensorflow:From C:\\Users\\Dell\\Anaconda3\\envs\\tensorflow\\lib\\site-packages\\tensorflow_core\\python\\ops\\nn_impl.py:183: where (from tensorflow.python.ops.array_ops) is deprecated and will be removed in a future version.\n",
      "Instructions for updating:\n",
      "Use tf.where in 2.0, which has the same broadcast rule as np.where\n",
      "Train on 8000 samples\n",
      "Epoch 1/100\n",
      "8000/8000 [==============================] - 13s 2ms/sample - loss: 0.5399 - acc: 0.7943\n",
      "Epoch 2/100\n",
      "8000/8000 [==============================] - 6s 809us/sample - loss: 0.4599 - acc: 0.7960\n",
      "Epoch 3/100\n",
      "8000/8000 [==============================] - 6s 709us/sample - loss: 0.4022 - acc: 0.7960\n",
      "Epoch 4/100\n",
      "8000/8000 [==============================] - 6s 705us/sample - loss: 0.3411 - acc: 0.7960s -\n",
      "Epoch 5/100\n",
      "8000/8000 [==============================] - 7s 894us/sample - loss: 0.2938 - acc: 0.7960\n",
      "Epoch 6/100\n",
      "8000/8000 [==============================] - 6s 754us/sample - loss: 0.2657 - acc: 0.8207\n",
      "Epoch 7/100\n",
      "8000/8000 [==============================] - 6s 809us/sample - loss: 0.2489 - acc: 0.8455\n",
      "Epoch 8/100\n",
      "8000/8000 [==============================] - 6s 799us/sample - loss: 0.2394 - acc: 0.8536\n",
      "Epoch 9/100\n",
      "8000/8000 [==============================] - 6s 742us/sample - loss: 0.2349 - acc: 0.8581\n",
      "Epoch 10/100\n",
      "8000/8000 [==============================] - 9s 1ms/sample - loss: 0.2313 - acc: 0.8618\n",
      "Epoch 11/100\n",
      "8000/8000 [==============================] - 6s 725us/sample - loss: 0.2264 - acc: 0.8679\n",
      "Epoch 12/100\n",
      "8000/8000 [==============================] - 7s 814us/sample - loss: 0.2222 - acc: 0.8712\n",
      "Epoch 13/100\n",
      "8000/8000 [==============================] - 6s 740us/sample - loss: 0.2201 - acc: 0.8734\n",
      "Epoch 14/100\n",
      "8000/8000 [==============================] - 6s 781us/sample - loss: 0.2196 - acc: 0.8740\n",
      "Epoch 15/100\n",
      "8000/8000 [==============================] - 6s 799us/sample - loss: 0.2184 - acc: 0.8754\n",
      "Epoch 16/100\n",
      "8000/8000 [==============================] - 6s 801us/sample - loss: 0.2178 - acc: 0.8759\n",
      "Epoch 17/100\n",
      "8000/8000 [==============================] - 7s 885us/sample - loss: 0.2167 - acc: 0.8770\n",
      "Epoch 18/100\n",
      "8000/8000 [==============================] - 6s 793us/sample - loss: 0.2156 - acc: 0.8779\n",
      "Epoch 19/100\n",
      "8000/8000 [==============================] - 9s 1ms/sample - loss: 0.2151 - acc: 0.8784\n",
      "Epoch 20/100\n",
      "8000/8000 [==============================] - 6s 717us/sample - loss: 0.2134 - acc: 0.8811\n",
      "Epoch 21/100\n",
      "8000/8000 [==============================] - 6s 730us/sample - loss: 0.2091 - acc: 0.8838\n",
      "Epoch 22/100\n",
      "8000/8000 [==============================] - 7s 859us/sample - loss: 0.2060 - acc: 0.8874\n",
      "Epoch 23/100\n",
      "8000/8000 [==============================] - 7s 844us/sample - loss: 0.2051 - acc: 0.8882\n",
      "Epoch 24/100\n",
      "8000/8000 [==============================] - 7s 814us/sample - loss: 0.2047 - acc: 0.8888\n",
      "Epoch 25/100\n",
      "8000/8000 [==============================] - 7s 820us/sample - loss: 0.2046 - acc: 0.8889\n",
      "Epoch 26/100\n",
      "8000/8000 [==============================] - 9s 1ms/sample - loss: 0.2043 - acc: 0.8891\n",
      "Epoch 27/100\n",
      "8000/8000 [==============================] - 13s 2ms/sample - loss: 0.2048 - acc: 0.8894\n",
      "Epoch 28/100\n",
      "8000/8000 [==============================] - 9s 1ms/sample - loss: 0.1940 - acc: 0.8994\n",
      "Epoch 29/100\n",
      "8000/8000 [==============================] - 9s 1ms/sample - loss: 0.1846 - acc: 0.9062\n",
      "Epoch 30/100\n",
      "8000/8000 [==============================] - 9s 1ms/sample - loss: 0.1551 - acc: 0.9326\n",
      "Epoch 31/100\n",
      "8000/8000 [==============================] - 9s 1ms/sample - loss: 0.1507 - acc: 0.9344\n",
      "Epoch 32/100\n",
      "8000/8000 [==============================] - 8s 986us/sample - loss: 0.1493 - acc: 0.9349\n",
      "Epoch 33/100\n",
      "8000/8000 [==============================] - 8s 1ms/sample - loss: 0.1489 - acc: 0.9350\n",
      "Epoch 34/100\n",
      "8000/8000 [==============================] - 10s 1ms/sample - loss: 0.1487 - acc: 0.9351\n",
      "Epoch 35/100\n",
      "8000/8000 [==============================] - 11s 1ms/sample - loss: 0.1483 - acc: 0.9354\n",
      "Epoch 36/100\n",
      "8000/8000 [==============================] - 8s 1ms/sample - loss: 0.1479 - acc: 0.9356\n",
      "Epoch 37/100\n",
      "8000/8000 [==============================] - 9s 1ms/sample - loss: 0.1475 - acc: 0.9359\n",
      "Epoch 38/100\n",
      "8000/8000 [==============================] - 9s 1ms/sample - loss: 0.1564 - acc: 0.9299\n",
      "Epoch 39/100\n",
      "8000/8000 [==============================] - 8s 1ms/sample - loss: 0.1431 - acc: 0.9384\n",
      "Epoch 40/100\n",
      "8000/8000 [==============================] - 10s 1ms/sample - loss: 0.1005 - acc: 0.9678\n",
      "Epoch 41/100\n",
      "8000/8000 [==============================] - 8s 1ms/sample - loss: 0.0799 - acc: 0.9765\n",
      "Epoch 42/100\n",
      "8000/8000 [==============================] - 10s 1ms/sample - loss: 0.0734 - acc: 0.9789\n",
      "Epoch 43/100\n",
      "8000/8000 [==============================] - 9s 1ms/sample - loss: 0.0805 - acc: 0.9729\n",
      "Epoch 44/100\n",
      "8000/8000 [==============================] - 9s 1ms/sample - loss: 0.0698 - acc: 0.9791\n",
      "Epoch 45/100\n",
      "8000/8000 [==============================] - 8s 1ms/sample - loss: 0.0473 - acc: 0.9870 0s - loss: 0.0478 - acc: \n",
      "Epoch 46/100\n",
      "8000/8000 [==============================] - 11s 1ms/sample - loss: 0.0360 - acc: 0.9921\n",
      "Epoch 47/100\n",
      "8000/8000 [==============================] - 12s 2ms/sample - loss: 0.0297 - acc: 0.9940\n",
      "Epoch 48/100\n",
      "8000/8000 [==============================] - 12s 1ms/sample - loss: 0.0273 - acc: 0.9944\n",
      "Epoch 49/100\n",
      "8000/8000 [==============================] - 9s 1ms/sample - loss: 0.0256 - acc: 0.9948\n",
      "Epoch 50/100\n",
      "8000/8000 [==============================] - 11s 1ms/sample - loss: 0.0249 - acc: 0.9949\n",
      "Epoch 51/100\n",
      "8000/8000 [==============================] - 8s 951us/sample - loss: 0.0243 - acc: 0.9950\n",
      "Epoch 52/100\n",
      "8000/8000 [==============================] - 7s 824us/sample - loss: 0.0240 - acc: 0.9950\n",
      "Epoch 53/100\n",
      "8000/8000 [==============================] - 8s 965us/sample - loss: 0.0239 - acc: 0.9950\n",
      "Epoch 54/100\n",
      "8000/8000 [==============================] - 9s 1ms/sample - loss: 0.0326 - acc: 0.9915\n",
      "Epoch 55/100\n",
      "8000/8000 [==============================] - 7s 893us/sample - loss: 0.0395 - acc: 0.9898\n",
      "Epoch 56/100\n",
      "8000/8000 [==============================] - 8s 939us/sample - loss: 0.0221 - acc: 0.9948\n",
      "Epoch 57/100\n",
      "8000/8000 [==============================] - 6s 783us/sample - loss: 0.0163 - acc: 0.9965\n",
      "Epoch 58/100\n",
      "8000/8000 [==============================] - 7s 871us/sample - loss: 0.0134 - acc: 0.9977\n",
      "Epoch 59/100\n",
      "8000/8000 [==============================] - 6s 764us/sample - loss: 0.0119 - acc: 0.9980\n",
      "Epoch 60/100\n",
      "8000/8000 [==============================] - 6s 771us/sample - loss: 0.0112 - acc: 0.9981s - l\n",
      "Epoch 61/100\n",
      "8000/8000 [==============================] - 9s 1ms/sample - loss: 0.0107 - acc: 0.9981\n",
      "Epoch 62/100\n",
      "8000/8000 [==============================] - 6s 762us/sample - loss: 0.0150 - acc: 0.9967\n",
      "Epoch 63/100\n",
      "8000/8000 [==============================] - 7s 869us/sample - loss: 0.0104 - acc: 0.9983\n",
      "Epoch 64/100\n",
      "8000/8000 [==============================] - 6s 762us/sample - loss: 0.0101 - acc: 0.9983\n",
      "Epoch 65/100\n",
      "8000/8000 [==============================] - 7s 914us/sample - loss: 0.0098 - acc: 0.9983\n",
      "Epoch 66/100\n",
      "8000/8000 [==============================] - 6s 756us/sample - loss: 0.0094 - acc: 0.9983\n",
      "Epoch 67/100\n",
      "8000/8000 [==============================] - 6s 779us/sample - loss: 0.0089 - acc: 0.9985\n",
      "Epoch 68/100\n",
      "8000/8000 [==============================] - 7s 875us/sample - loss: 0.0085 - acc: 0.9986\n",
      "Epoch 69/100\n",
      "8000/8000 [==============================] - 7s 820us/sample - loss: 0.0084 - acc: 0.9986\n",
      "Epoch 70/100\n",
      "8000/8000 [==============================] - 10s 1ms/sample - loss: 0.0084 - acc: 0.9986\n",
      "Epoch 71/100\n",
      "8000/8000 [==============================] - 7s 824us/sample - loss: 0.0083 - acc: 0.9986\n",
      "Epoch 72/100\n",
      "8000/8000 [==============================] - 7s 889us/sample - loss: 0.0083 - acc: 0.9986\n",
      "Epoch 73/100\n",
      "8000/8000 [==============================] - 6s 779us/sample - loss: 0.0077 - acc: 0.9987\n",
      "Epoch 74/100\n",
      "8000/8000 [==============================] - 7s 857us/sample - loss: 0.0077 - acc: 0.9987\n",
      "Epoch 75/100\n",
      "8000/8000 [==============================] - 6s 773us/sample - loss: 0.0077 - acc: 0.9987\n",
      "Epoch 76/100\n",
      "8000/8000 [==============================] - 6s 781us/sample - loss: 0.0077 - acc: 0.9987\n",
      "Epoch 77/100\n",
      "8000/8000 [==============================] - 7s 893us/sample - loss: 0.0077 - acc: 0.9987\n",
      "Epoch 78/100\n",
      "8000/8000 [==============================] - 7s 873us/sample - loss: 0.0115 - acc: 0.9977\n",
      "Epoch 79/100\n",
      "8000/8000 [==============================] - 9s 1ms/sample - loss: 0.0153 - acc: 0.9969\n",
      "Epoch 80/100\n",
      "8000/8000 [==============================] - 8s 951us/sample - loss: 0.0138 - acc: 0.9974\n",
      "Epoch 81/100\n",
      "8000/8000 [==============================] - 7s 873us/sample - loss: 0.0132 - acc: 0.9975\n",
      "Epoch 82/100\n",
      "8000/8000 [==============================] - 6s 795us/sample - loss: 0.0130 - acc: 0.9976\n",
      "Epoch 83/100\n",
      "8000/8000 [==============================] - 7s 859us/sample - loss: 0.0125 - acc: 0.9977\n",
      "Epoch 84/100\n",
      "8000/8000 [==============================] - 7s 914us/sample - loss: 0.0124 - acc: 0.9977\n",
      "Epoch 85/100\n",
      "8000/8000 [==============================] - 6s 805us/sample - loss: 0.0124 - acc: 0.9977\n",
      "Epoch 86/100\n",
      "8000/8000 [==============================] - 7s 857us/sample - loss: 0.0124 - acc: 0.9977\n",
      "Epoch 87/100\n",
      "8000/8000 [==============================] - 8s 959us/sample - loss: 0.0124 - acc: 0.9977\n",
      "Epoch 88/100\n",
      "8000/8000 [==============================] - 7s 836us/sample - loss: 0.0124 - acc: 0.9977\n",
      "Epoch 89/100\n",
      "8000/8000 [==============================] - 6s 762us/sample - loss: 0.0124 - acc: 0.9977\n",
      "Epoch 90/100\n",
      "8000/8000 [==============================] - 6s 787us/sample - loss: 0.0124 - acc: 0.9977\n",
      "Epoch 91/100\n",
      "8000/8000 [==============================] - 7s 848us/sample - loss: 0.0134 - acc: 0.9975\n",
      "Epoch 92/100\n",
      "8000/8000 [==============================] - 6s 766us/sample - loss: 0.0142 - acc: 0.9973\n",
      "Epoch 93/100\n",
      "8000/8000 [==============================] - 7s 896us/sample - loss: 0.0116 - acc: 0.9980\n",
      "Epoch 94/100\n",
      "8000/8000 [==============================] - 7s 816us/sample - loss: 0.0102 - acc: 0.9983\n",
      "Epoch 95/100\n",
      "8000/8000 [==============================] - 7s 883us/sample - loss: 0.0101 - acc: 0.9983\n",
      "Epoch 96/100\n",
      "8000/8000 [==============================] - 8s 996us/sample - loss: 0.0101 - acc: 0.9983\n",
      "Epoch 97/100\n",
      "8000/8000 [==============================] - 9s 1ms/sample - loss: 0.0101 - acc: 0.9983\n",
      "Epoch 98/100\n",
      "8000/8000 [==============================] - 8s 975us/sample - loss: 0.0101 - acc: 0.9983\n",
      "Epoch 99/100\n",
      "8000/8000 [==============================] - 9s 1ms/sample - loss: 0.0101 - acc: 0.9983\n",
      "Epoch 100/100\n",
      "8000/8000 [==============================] - 10s 1ms/sample - loss: 0.0101 - acc: 0.9983\n"
     ]
    },
    {
     "data": {
      "text/plain": [
       "<tensorflow.python.keras.callbacks.History at 0x20338d1db88>"
      ]
     },
     "execution_count": 16,
     "metadata": {},
     "output_type": "execute_result"
    }
   ],
   "source": [
    "# Fitting the ANN to the training set\n",
    "classifier.fit(X_train, y_train, batch_size=10, epochs=100)"
   ]
  },
  {
   "cell_type": "markdown",
   "metadata": {},
   "source": [
    "## Making predictions and evaluating the model"
   ]
  },
  {
   "cell_type": "code",
   "execution_count": 17,
   "metadata": {},
   "outputs": [],
   "source": [
    "# Predicting the Test set results\n",
    "y_pred = classifier.predict(X_test)\n",
    "y_pred = (y_pred > 0.5)"
   ]
  },
  {
   "cell_type": "code",
   "execution_count": 20,
   "metadata": {},
   "outputs": [
    {
     "name": "stdout",
     "output_type": "stream",
     "text": [
      "Confusion Matrix: \n",
      " [[1106  489]\n",
      " [ 119  286]]\n"
     ]
    }
   ],
   "source": [
    "# Making the Confusion Matrix\n",
    "from sklearn.metrics import confusion_matrix\n",
    "cm = confusion_matrix(y_test, y_pred)\n",
    "print('Confusion Matrix: \\n', cm)"
   ]
  },
  {
   "cell_type": "code",
   "execution_count": null,
   "metadata": {},
   "outputs": [],
   "source": []
  }
 ],
 "metadata": {
  "kernelspec": {
   "display_name": "Python 3",
   "language": "python",
   "name": "python3"
  },
  "language_info": {
   "codemirror_mode": {
    "name": "ipython",
    "version": 3
   },
   "file_extension": ".py",
   "mimetype": "text/x-python",
   "name": "python",
   "nbconvert_exporter": "python",
   "pygments_lexer": "ipython3",
   "version": "3.7.4"
  }
 },
 "nbformat": 4,
 "nbformat_minor": 4
}
